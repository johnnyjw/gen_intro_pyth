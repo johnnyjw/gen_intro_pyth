{
 "cells": [
  {
   "cell_type": "code",
   "execution_count": 3,
   "id": "f0f9c0cb",
   "metadata": {},
   "outputs": [],
   "source": [
    "from Bio import SeqIO"
   ]
  },
  {
   "cell_type": "code",
   "execution_count": 4,
   "id": "6c3b7993",
   "metadata": {},
   "outputs": [],
   "source": [
    "records = list(SeqIO.parse(\"dna2.fasta\", \"fasta\"))"
   ]
  },
  {
   "cell_type": "code",
   "execution_count": 5,
   "id": "cddc7f5c",
   "metadata": {},
   "outputs": [
    {
     "data": {
      "text/plain": [
       "18"
      ]
     },
     "execution_count": 5,
     "metadata": {},
     "output_type": "execute_result"
    }
   ],
   "source": [
    "len(records)"
   ]
  },
  {
   "cell_type": "code",
   "execution_count": 76,
   "id": "499ea34b",
   "metadata": {},
   "outputs": [
    {
     "name": "stdout",
     "output_type": "stream",
     "text": [
      "gi|142022655|gb|EQ086233.1|91 4635\n",
      "gi|142022655|gb|EQ086233.1|304 1151\n",
      "gi|142022655|gb|EQ086233.1|255 4894\n",
      "gi|142022655|gb|EQ086233.1|45 3511\n",
      "gi|142022655|gb|EQ086233.1|396 4076\n",
      "gi|142022655|gb|EQ086233.1|250 2867\n",
      "gi|142022655|gb|EQ086233.1|322 442\n",
      "gi|142022655|gb|EQ086233.1|88 890\n",
      "gi|142022655|gb|EQ086233.1|594 967\n",
      "gi|142022655|gb|EQ086233.1|293 4338\n",
      "gi|142022655|gb|EQ086233.1|75 1352\n",
      "gi|142022655|gb|EQ086233.1|454 4564\n",
      "gi|142022655|gb|EQ086233.1|16 4804\n",
      "gi|142022655|gb|EQ086233.1|584 964\n",
      "gi|142022655|gb|EQ086233.1|4 2095\n",
      "gi|142022655|gb|EQ086233.1|277 1432\n",
      "gi|142022655|gb|EQ086233.1|346 115\n",
      "gi|142022655|gb|EQ086233.1|527 2646\n"
     ]
    }
   ],
   "source": [
    "records_dict = {}\n",
    "for record in records:\n",
    "    print(\"%s %i\" % (record.id, len(record)))\n",
    "    records_dict[record.id] = len(record)"
   ]
  },
  {
   "cell_type": "code",
   "execution_count": 77,
   "id": "59aab13b",
   "metadata": {},
   "outputs": [
    {
     "name": "stdout",
     "output_type": "stream",
     "text": [
      "Max length is 4894 bp\n",
      "gi|142022655|gb|EQ086233.1|255\n"
     ]
    }
   ],
   "source": [
    "max_len = max(records_dict.values())\n",
    "print(\"Max length is %i bp\" % max_len)\n",
    "for key in records_dict.keys():\n",
    "    if records_dict[key] == max_len:\n",
    "        print (key)"
   ]
  },
  {
   "cell_type": "code",
   "execution_count": 78,
   "id": "7c79d78d",
   "metadata": {},
   "outputs": [
    {
     "name": "stdout",
     "output_type": "stream",
     "text": [
      "Min length is 115 bp\n",
      "gi|142022655|gb|EQ086233.1|346\n"
     ]
    }
   ],
   "source": [
    "min_len = min(records_dict.values())\n",
    "print(\"Min length is %i bp\" % min_len)\n",
    "for key in records_dict.keys():\n",
    "    if records_dict[key] == min_len:\n",
    "        print (key)"
   ]
  },
  {
   "cell_type": "code",
   "execution_count": 6,
   "id": "feb6bdd1",
   "metadata": {},
   "outputs": [
    {
     "data": {
      "text/plain": [
       "Seq('CTAGGGCATCTAGAAAGGCAT')"
      ]
     },
     "execution_count": 6,
     "metadata": {},
     "output_type": "execute_result"
    }
   ],
   "source": [
    "#record = records[0]\n",
    "#records2 = list(SeqIO.parse(\"easy.fa\", \"fasta\"))\n",
    "#record = records2[1]\n",
    "\n",
    "\n",
    "#record.seq"
   ]
  },
  {
   "cell_type": "code",
   "execution_count": 83,
   "id": "5d280d8f",
   "metadata": {},
   "outputs": [],
   "source": [
    "def get_longest(record, frames=[0,1,2]):\n",
    "    \"Returns the longest ORF in a particular sequence\"\n",
    "    orf_dict=  {}\n",
    "    longest_orf = 0\n",
    "    longest_start = 0\n",
    "\n",
    "    #forward frames\n",
    "    for frame in frames:\n",
    "        current_loc = frame\n",
    "        while current_loc<len(record.seq):\n",
    "            current_triplet = record[current_loc:current_loc+3]\n",
    "            if current_triplet.seq == 'ATG':\n",
    "                orf_current = current_loc\n",
    "                while orf_current<len(record.seq):\n",
    "                    orf_triplet = record[orf_current:orf_current+3]\n",
    "                    if orf_triplet.seq in ['TAA', 'TAG', 'TGA']:\n",
    "                        orf_dict[current_loc] = orf_current\n",
    "                        break\n",
    "                    orf_current += 3\n",
    "            current_loc += 3\n",
    "\n",
    "    #reverse frames\n",
    "    for frame in frames:\n",
    "        current_loc = frame\n",
    "        while current_loc<len(record.seq):\n",
    "            current_triplet = record.seq.reverse_complement()[current_loc:current_loc+3]\n",
    "            if current_triplet == 'ATG':\n",
    "                orf_current = current_loc\n",
    "                while orf_current<len(record.seq):\n",
    "                    orf_triplet = record.seq.reverse_complement()[orf_current:orf_current+3]\n",
    "                    if orf_triplet in ['TAA', 'TAG', 'TGA']:\n",
    "                        # because sequence has been reversed, location is actually count from end\n",
    "                        orf_dict[len(record.seq) - current_loc - 1] = len(record.seq) - orf_current - 1\n",
    "                        break\n",
    "                    orf_current += 3\n",
    "            current_loc += 3\n",
    "\n",
    "    for key in orf_dict.keys():\n",
    "        #actual length is end codon - start codon + 3 (to include all bases)\n",
    "        orf_len = abs(orf_dict[key] - key) + 3\n",
    "        if orf_len > longest_orf:\n",
    "            longest_orf = orf_len\n",
    "            #actual location is location + 1 (as nucleotide counting from 1)\n",
    "            longest_start = key + 1\n",
    "\n",
    "    return(longest_start, longest_orf)"
   ]
  },
  {
   "cell_type": "code",
   "execution_count": 84,
   "id": "09ba0551",
   "metadata": {},
   "outputs": [],
   "source": [
    "def get_longest_for(record, frames=[0,1,2]):\n",
    "    \"Returns the longest ORF in a particular sequence\"\n",
    "    orf_dict=  {}\n",
    "    longest_orf = 0\n",
    "    longest_start = 0\n",
    "\n",
    "    #forward frames\n",
    "    for frame in frames:\n",
    "        current_loc = frame\n",
    "        while current_loc<len(record.seq):\n",
    "            current_triplet = record[current_loc:current_loc+3]\n",
    "            if current_triplet.seq == 'ATG':\n",
    "                orf_current = current_loc\n",
    "                while orf_current<len(record.seq):\n",
    "                    orf_triplet = record[orf_current:orf_current+3]\n",
    "                    if orf_triplet.seq in ['TAA', 'TAG', 'TGA']:\n",
    "                        orf_dict[current_loc] = orf_current\n",
    "                        break\n",
    "                    orf_current += 3\n",
    "            current_loc += 3\n",
    "\n",
    "    for key in orf_dict.keys():\n",
    "        #actual length is end codon - start codon + 3 (to include all bases)\n",
    "        orf_len = abs(orf_dict[key] - key) + 3\n",
    "        if orf_len > longest_orf:\n",
    "            longest_orf = orf_len\n",
    "            #actual location is location + 1 (as nucleotide counting from 1)\n",
    "            longest_start = key + 1\n",
    "\n",
    "    return(longest_start, longest_orf)"
   ]
  },
  {
   "cell_type": "code",
   "execution_count": 85,
   "id": "61f22920",
   "metadata": {},
   "outputs": [
    {
     "name": "stdout",
     "output_type": "stream",
     "text": [
      "Longest ORF is in gi|142022655|gb|EQ086233.1|16 starting at 3071 and is 1458 bp long.\n"
     ]
    }
   ],
   "source": [
    "overall_longest_start = 0\n",
    "overall_longest_orf = 0\n",
    "overall_longest_gene = \"\"\n",
    "\n",
    "for record in records:\n",
    "    longest_start, longest_orf = get_longest_for(record, [1])\n",
    "    if longest_orf>overall_longest_orf:\n",
    "        overall_longest_orf = longest_orf\n",
    "        overall_longest_start = longest_start\n",
    "        overall_longest_gene = record.id\n",
    "\n",
    "\n",
    "print (\"Longest ORF is in %s starting at %i and is %i bp long.\" % (overall_longest_gene, \n",
    "                                                                   overall_longest_start, \n",
    "                                                                   overall_longest_orf))\n",
    "\n"
   ]
  },
  {
   "cell_type": "code",
   "execution_count": 86,
   "id": "78bcd3a9",
   "metadata": {},
   "outputs": [
    {
     "name": "stdout",
     "output_type": "stream",
     "text": [
      "Longest ORF is in gi|142022655|gb|EQ086233.1|527 starting at 636 and is 1821 bp long.\n"
     ]
    }
   ],
   "source": [
    "overall_longest_start = 0\n",
    "overall_longest_orf = 0\n",
    "overall_longest_gene = \"\"\n",
    "\n",
    "for record in records:\n",
    "    longest_start, longest_orf = get_longest_for(record, [2])\n",
    "    if longest_orf>overall_longest_orf:\n",
    "        overall_longest_orf = longest_orf\n",
    "        overall_longest_start = longest_start\n",
    "        overall_longest_gene = record.id\n",
    "\n",
    "\n",
    "print (\"Longest ORF is in %s starting at %i and is %i bp long.\" % (overall_longest_gene, \n",
    "                                                                   overall_longest_start, \n",
    "                                                                   overall_longest_orf))"
   ]
  },
  {
   "cell_type": "code",
   "execution_count": 87,
   "id": "a28d8011",
   "metadata": {},
   "outputs": [
    {
     "name": "stdout",
     "output_type": "stream",
     "text": [
      "Longest ORF is in gi|142022655|gb|EQ086233.1|45 starting at 385 and is 2394 bp long.\n"
     ]
    }
   ],
   "source": [
    "overall_longest_start = 0\n",
    "overall_longest_orf = 0\n",
    "overall_longest_gene = \"\"\n",
    "\n",
    "for record in records:\n",
    "    longest_start, longest_orf = get_longest_for(record)\n",
    "    if longest_orf>overall_longest_orf:\n",
    "        overall_longest_orf = longest_orf\n",
    "        overall_longest_start = longest_start\n",
    "        overall_longest_gene = record.id\n",
    "\n",
    "\n",
    "print (\"Longest ORF is in %s starting at %i and is %i bp long.\" % (overall_longest_gene, \n",
    "                                                                   overall_longest_start, \n",
    "                                                                   overall_longest_orf))"
   ]
  },
  {
   "cell_type": "code",
   "execution_count": 88,
   "id": "e56fc5ca",
   "metadata": {},
   "outputs": [
    {
     "name": "stdout",
     "output_type": "stream",
     "text": [
      "Longest ORF in gi|142022655|gb|EQ086233.1|16 starting at 1440 and is 1644 bp long.\n"
     ]
    }
   ],
   "source": [
    "gene_to_check = 'gi|142022655|gb|EQ086233.1|16'\n",
    "\n",
    "for record in records:\n",
    "    if record.id == gene_to_check:\n",
    "        longest_start, longest_orf = get_longest_for(record)\n",
    "        print (\"Longest ORF in %s starting at %i and is %i bp long.\" % (record.id, \n",
    "                                                                        longest_start, \n",
    "                                                                        longest_orf))"
   ]
  },
  {
   "cell_type": "code",
   "execution_count": 36,
   "id": "ba116bda",
   "metadata": {},
   "outputs": [],
   "source": [
    "def splitto(records, length):\n",
    "    \"Splits up records into repeats\"\n",
    "    repeat_list = []\n",
    "    for record in records:\n",
    "        repeat_list.extend([record.seq[i:i+length] for i in range(len(record.seq) - length + 1)])\n",
    "    repeat_dict = {}\n",
    "    for repeat in repeat_list:\n",
    "        if repeat in repeat_dict:\n",
    "            repeat_dict[repeat] += 1\n",
    "        else:\n",
    "            repeat_dict[repeat] = 1\n",
    "    return(repeat_dict)"
   ]
  },
  {
   "cell_type": "code",
   "execution_count": 41,
   "id": "34d3ff5f",
   "metadata": {},
   "outputs": [
    {
     "name": "stdout",
     "output_type": "stream",
     "text": [
      "Most frequent is 153\n"
     ]
    }
   ],
   "source": [
    "len_six_dict = splitto(records,6)\n",
    "\n",
    "most_frequent = max(len_six_dict.values())\n",
    "print (\"Most frequent is %i\" % most_frequent)"
   ]
  },
  {
   "cell_type": "code",
   "execution_count": 44,
   "id": "29a8a306",
   "metadata": {},
   "outputs": [
    {
     "data": {
      "text/plain": [
       "[Seq('CATTCGCCATTC'),\n",
       " Seq('ATTCGCCATTCG'),\n",
       " Seq('TTCGCCATTCGC'),\n",
       " Seq('TCGCCATTCGCC')]"
      ]
     },
     "execution_count": 44,
     "metadata": {},
     "output_type": "execute_result"
    }
   ],
   "source": [
    "len_twelve_dict = splitto(records, 12)\n",
    "most_frequent_twelve = max(len_twelve_dict.values())\n",
    "twelve_sequences = []\n",
    "for key in len_twelve_dict.keys():\n",
    "    if len_twelve_dict[key] == most_frequent_twelve:\n",
    "        twelve_sequences.append(key)\n",
    "        \n",
    "twelve_sequences"
   ]
  },
  {
   "cell_type": "code",
   "execution_count": 45,
   "id": "83b0145f",
   "metadata": {},
   "outputs": [
    {
     "data": {
      "text/plain": [
       "[Seq('CGCGCCG')]"
      ]
     },
     "execution_count": 45,
     "metadata": {},
     "output_type": "execute_result"
    }
   ],
   "source": [
    "len_seven_dict = splitto(records, 7)\n",
    "most_frequent_seven = max(len_seven_dict.values())\n",
    "seven_sequences = []\n",
    "for key in len_seven_dict.keys():\n",
    "    if len_seven_dict[key] == most_frequent_seven:\n",
    "        seven_sequences.append(key)\n",
    "        \n",
    "seven_sequences"
   ]
  },
  {
   "cell_type": "code",
   "execution_count": 35,
   "id": "3f63672d",
   "metadata": {},
   "outputs": [
    {
     "data": {
      "text/plain": [
       "[1, 2, 3, 4, 5, 6]"
      ]
     },
     "execution_count": 35,
     "metadata": {},
     "output_type": "execute_result"
    }
   ],
   "source": [
    "listo"
   ]
  },
  {
   "cell_type": "code",
   "execution_count": null,
   "id": "aee7434f",
   "metadata": {},
   "outputs": [],
   "source": []
  }
 ],
 "metadata": {
  "kernelspec": {
   "display_name": "Python 3",
   "language": "python",
   "name": "python3"
  },
  "language_info": {
   "codemirror_mode": {
    "name": "ipython",
    "version": 3
   },
   "file_extension": ".py",
   "mimetype": "text/x-python",
   "name": "python",
   "nbconvert_exporter": "python",
   "pygments_lexer": "ipython3",
   "version": "3.8.8"
  }
 },
 "nbformat": 4,
 "nbformat_minor": 5
}
