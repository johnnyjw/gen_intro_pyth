{
 "cells": [
  {
   "cell_type": "code",
   "execution_count": 2,
   "id": "198042bf",
   "metadata": {},
   "outputs": [],
   "source": [
    "def gc(dna) :\n",
    "    \"this function computes the GC percentage of a dna sequence\"\n",
    "    nbases=dna.count('n') + dna.count('N')\n",
    "    gcpercent=float(dna.count('c')+dna.count('C') +dna.count('g'))"
   ]
  },
  {
   "cell_type": "code",
   "execution_count": 3,
   "id": "2eb7ea77",
   "metadata": {},
   "outputs": [
    {
     "name": "stdout",
     "output_type": "stream",
     "text": [
      "Help on function gc in module __main__:\n",
      "\n",
      "gc(dna)\n",
      "    this function computes the GC percentage of a dna sequence\n",
      "\n"
     ]
    }
   ],
   "source": [
    "help(gc)"
   ]
  },
  {
   "cell_type": "code",
   "execution_count": null,
   "id": "2a3fdccd",
   "metadata": {},
   "outputs": [],
   "source": []
  }
 ],
 "metadata": {
  "kernelspec": {
   "display_name": "Python 3 (ipykernel)",
   "language": "python",
   "name": "python3"
  },
  "language_info": {
   "codemirror_mode": {
    "name": "ipython",
    "version": 3
   },
   "file_extension": ".py",
   "mimetype": "text/x-python",
   "name": "python",
   "nbconvert_exporter": "python",
   "pygments_lexer": "ipython3",
   "version": "3.9.7"
  }
 },
 "nbformat": 4,
 "nbformat_minor": 5
}
